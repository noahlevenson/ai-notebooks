{
 "cells": [
  {
   "cell_type": "code",
   "execution_count": 1,
   "metadata": {},
   "outputs": [],
   "source": [
    "# Vanilla Policy Gradient with rewards-to-go v. CartPole-v0\n",
    "# https://spinningup.openai.com/en/latest/algorithms/vpg.html"
   ]
  },
  {
   "cell_type": "code",
   "execution_count": 2,
   "metadata": {},
   "outputs": [],
   "source": [
    "import math\n",
    "import torch\n",
    "from torch import nn\n",
    "from torch import tensor\n",
    "import gym\n",
    "import matplotlib.pyplot as plt"
   ]
  },
  {
   "cell_type": "code",
   "execution_count": 3,
   "metadata": {},
   "outputs": [
    {
     "data": {
      "text/plain": [
       "(Discrete(2),\n",
       " Box(-3.4028234663852886e+38, 3.4028234663852886e+38, (4,), float32))"
      ]
     },
     "execution_count": 3,
     "metadata": {},
     "output_type": "execute_result"
    }
   ],
   "source": [
    "env = gym.make(\"CartPole-v0\")\n",
    "env.action_space, env.observation_space"
   ]
  },
  {
   "cell_type": "code",
   "execution_count": 4,
   "metadata": {},
   "outputs": [],
   "source": [
    "act_dim = env.action_space.n\n",
    "obs_dim = len(env.observation_space.sample())"
   ]
  },
  {
   "cell_type": "code",
   "execution_count": 5,
   "metadata": {},
   "outputs": [],
   "source": [
    "# Hyperparameters\n",
    "\n",
    "n_epochs = 20\n",
    "steps_per_epoch = 8000\n",
    "pi_hid_dim = 64\n",
    "pi_lr = 0.01"
   ]
  },
  {
   "cell_type": "code",
   "execution_count": 6,
   "metadata": {},
   "outputs": [],
   "source": [
    "# pi, our policy\n",
    "\n",
    "pi = nn.Sequential(\n",
    "    nn.Linear(obs_dim, pi_hid_dim),\n",
    "    nn.Tanh(),\n",
    "    nn.Linear(pi_hid_dim, pi_hid_dim),\n",
    "    nn.Tanh(),\n",
    "    nn.Linear(pi_hid_dim, act_dim)\n",
    ")"
   ]
  },
  {
   "cell_type": "code",
   "execution_count": 7,
   "metadata": {},
   "outputs": [],
   "source": [
    "def get_policy(obs):\n",
    "    logits = pi(obs)\n",
    "    return torch.distributions.Categorical(logits=logits)\n",
    "\n",
    "def get_action(obs):\n",
    "    return get_policy(obs).sample()\n",
    "\n",
    "def loss(obs, act, weights):        \n",
    "    logp = get_policy(obs).log_prob(act)\n",
    "    return -(logp * weights).mean()"
   ]
  },
  {
   "cell_type": "code",
   "execution_count": 8,
   "metadata": {},
   "outputs": [],
   "source": [
    "def train(n_epochs):\n",
    "    train_loss, ret_mean, ret_max, ret_min, ret_std = [], [], [], [], []\n",
    "    optim = torch.optim.Adam(pi.parameters(), lr=pi_lr)\n",
    "    \n",
    "    for k in range(n_epochs):\n",
    "        act, rew, obs, ret = [], [], [], []\n",
    "        ep = 0\n",
    "        start = -1\n",
    "        observation = env.reset()\n",
    "               \n",
    "        for t in range(steps_per_epoch):\n",
    "            # env.render() \n",
    "            obs.append(observation)\n",
    "            action = get_action(torch.from_numpy(observation).float().unsqueeze(dim=0)).item()\n",
    "            observation, reward, done, _ = env.step(action)\n",
    "            act.append(action)\n",
    "            rew.append(reward)\n",
    "        \n",
    "            if done or t == steps_per_epoch - 1:\n",
    "                # print(f\"Epoch {k}, Episode {ep} ended after {t - start} steps\")\n",
    "                        \n",
    "                # Compute rewards-to-go\n",
    "                for i in range(len(rew) - 2, start, -1):\n",
    "                    rew[i] += rew[i + 1]\n",
    "                \n",
    "                ret.append(rew[start + 1])\n",
    "                observation = env.reset()\n",
    "                ep += 1\n",
    "                start = t\n",
    "        \n",
    "        # End of batch \n",
    "        optim.zero_grad()  \n",
    "        epoch_loss = loss(tensor(obs).float(), tensor(act).int(), tensor(rew).float())\n",
    "        epoch_loss.backward()\n",
    "        optim.step()\n",
    "        \n",
    "        print(f\"Epoch {k}: {ep} episodes\\nAvg episode return: {sum(ret) / len(ret)}\\nLoss: {epoch_loss}\\n\")\n",
    "        train_loss.append(epoch_loss)\n",
    "        mean = sum(ret) / len(ret)\n",
    "        ret_mean.append(mean)\n",
    "        ret_std.append(math.sqrt(sum([(mean - rew) ** 2 for rew in ret]) / len(ret)))\n",
    "        ret_max.append(max(*ret))\n",
    "        ret_min.append(min(*ret))\n",
    "        \n",
    "    env.close()\n",
    "    return train_loss, ret_mean, ret_std, ret_max, ret_min"
   ]
  },
  {
   "cell_type": "code",
   "execution_count": 9,
   "metadata": {},
   "outputs": [
    {
     "name": "stdout",
     "output_type": "stream",
     "text": [
      "Epoch 0: 383 episodes\n",
      "Avg episode return: 20.887728459530027\n",
      "Loss: 9.636371612548828\n",
      "\n",
      "Epoch 1: 317 episodes\n",
      "Avg episode return: 25.236593059936908\n",
      "Loss: 11.306453704833984\n",
      "\n",
      "Epoch 2: 189 episodes\n",
      "Avg episode return: 42.32804232804233\n",
      "Loss: 17.92449951171875\n",
      "\n",
      "Epoch 3: 195 episodes\n",
      "Avg episode return: 41.02564102564103\n",
      "Loss: 16.703062057495117\n",
      "\n",
      "Epoch 4: 150 episodes\n",
      "Avg episode return: 53.333333333333336\n",
      "Loss: 19.27981948852539\n",
      "\n",
      "Epoch 5: 128 episodes\n",
      "Avg episode return: 62.5\n",
      "Loss: 21.599468231201172\n",
      "\n",
      "Epoch 6: 134 episodes\n",
      "Avg episode return: 59.701492537313435\n",
      "Loss: 20.655920028686523\n",
      "\n",
      "Epoch 7: 114 episodes\n",
      "Avg episode return: 70.17543859649123\n",
      "Loss: 24.47594451904297\n",
      "\n",
      "Epoch 8: 70 episodes\n",
      "Avg episode return: 114.28571428571429\n",
      "Loss: 35.792171478271484\n",
      "\n",
      "Epoch 9: 65 episodes\n",
      "Avg episode return: 123.07692307692308\n",
      "Loss: 35.96760940551758\n",
      "\n",
      "Epoch 10: 49 episodes\n",
      "Avg episode return: 163.26530612244898\n",
      "Loss: 44.48194122314453\n",
      "\n",
      "Epoch 11: 49 episodes\n",
      "Avg episode return: 163.26530612244898\n",
      "Loss: 43.84458541870117\n",
      "\n",
      "Epoch 12: 44 episodes\n",
      "Avg episode return: 181.8181818181818\n",
      "Loss: 46.72476577758789\n",
      "\n",
      "Epoch 13: 43 episodes\n",
      "Avg episode return: 186.04651162790697\n",
      "Loss: 46.22999572753906\n",
      "\n",
      "Epoch 14: 44 episodes\n",
      "Avg episode return: 181.8181818181818\n",
      "Loss: 45.30754089355469\n",
      "\n",
      "Epoch 15: 43 episodes\n",
      "Avg episode return: 186.04651162790697\n",
      "Loss: 44.9719123840332\n",
      "\n",
      "Epoch 16: 41 episodes\n",
      "Avg episode return: 195.1219512195122\n",
      "Loss: 45.28685760498047\n",
      "\n",
      "Epoch 17: 40 episodes\n",
      "Avg episode return: 200.0\n",
      "Loss: 45.886295318603516\n",
      "\n",
      "Epoch 18: 41 episodes\n",
      "Avg episode return: 195.1219512195122\n",
      "Loss: 44.1396484375\n",
      "\n",
      "Epoch 19: 40 episodes\n",
      "Avg episode return: 200.0\n",
      "Loss: 44.84311294555664\n",
      "\n"
     ]
    },
    {
     "data": {
      "text/plain": [
       "<matplotlib.legend.Legend at 0x7f3747014240>"
      ]
     },
     "execution_count": 9,
     "metadata": {},
     "output_type": "execute_result"
    },
    {
     "data": {
      "image/png": "[encoded data removed]",
      "text/plain": [
       "<Figure size 432x288 with 1 Axes>"
      ]
     },
     "metadata": {
      "needs_background": "light"
     },
     "output_type": "display_data"
    }
   ],
   "source": [
    "train_loss, ret_mean, ret_std, ret_max, ret_min = train(n_epochs)\n",
    "plt.plot(train_loss, label=\"loss\")\n",
    "plt.plot(ret_mean, label=\"mean rew\")\n",
    "plt.plot(ret_std, label=\"rew stddev\")\n",
    "plt.plot(ret_max, label=\"max rew\")\n",
    "plt.plot(ret_min, label=\"min rew\")\n",
    "plt.xlabel(\"epoch\")\n",
    "plt.legend()"
   ]
  }
 ],
 "metadata": {
  "kernelspec": {
   "display_name": "env",
   "language": "python",
   "name": "env"
  },
  "language_info": {
   "codemirror_mode": {
    "name": "ipython",
    "version": 3
   },
   "file_extension": ".py",
   "mimetype": "text/x-python",
   "name": "python",
   "nbconvert_exporter": "python",
   "pygments_lexer": "ipython3",
   "version": "3.6.13"
  }
 },
 "nbformat": 4,
 "nbformat_minor": 4
}
